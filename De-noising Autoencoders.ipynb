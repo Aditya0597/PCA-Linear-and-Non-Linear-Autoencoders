{
  "nbformat": 4,
  "nbformat_minor": 0,
  "metadata": {
    "colab": {
      "name": "Assignment_4_part_e.ipynb",
      "provenance": [],
      "collapsed_sections": []
    },
    "kernelspec": {
      "name": "python3",
      "display_name": "Python 3"
    },
    "accelerator": "GPU"
  },
  "cells": [
    {
      "cell_type": "markdown",
      "metadata": {
        "id": "w7Z4AAyh6PAY",
        "colab_type": "text"
      },
      "source": [
        "Team mate: <br>\n",
        "Name.  : Breej Vania\n",
        "Banner : B00843525"
      ]
    },
    {
      "cell_type": "markdown",
      "metadata": {
        "id": "z9eiolZp6Aty",
        "colab_type": "text"
      },
      "source": [
        "## [2 pts] De-noising autoencoders\n",
        "Using the reconstructed images, obtained when variance = 90%, train a denoising autoencoder. Where the input to the denoising autoencoder will be the noisy images (i.e., the reconstructed images) and the output of the decoder need to be the noiseless image (original image). Use the denoised outputs of the denoising\n",
        " 1\n",
        "CSCI 4155/6505 – Winter 2020 A4\n",
        " auto-encoder to train the CNN and report the observations in terms of performance when compared to the performance of CNNs trained using reconstructed images with variance equal to 50%."
      ]
    },
    {
      "cell_type": "code",
      "metadata": {
        "id": "K8DHhXLE1bwW",
        "colab_type": "code",
        "colab": {}
      },
      "source": [
        "# PyTorch packages\n",
        "import torch\n",
        "import numpy as np\n",
        "from torchvision import datasets\n",
        "import torchvision.transforms as transforms\n",
        "from sklearn.decomposition import PCA\n",
        "from sklearn.model_selection import train_test_split\n",
        "import torch\n",
        "import torch.nn as nn\n",
        "import torch.nn.functional as F\n",
        "import torch.optim as optim\n",
        "import torchvision\n",
        "# For plotting\n",
        "import matplotlib.pyplot as plt"
      ],
      "execution_count": 0,
      "outputs": []
    },
    {
      "cell_type": "code",
      "metadata": {
        "id": "UCmrqD4PwaVM",
        "colab_type": "code",
        "colab": {}
      },
      "source": [
        "# convert data to torch.FloatTensor\n",
        "transform = transforms.ToTensor()\n",
        "\n",
        "# load the training and test datasets\n",
        "train_data = datasets.MNIST(root='data', train=True,\n",
        "                                   download=True, transform=transform)\n",
        "test_data = datasets.MNIST(root='data', train=False,\n",
        "                                  download=True, transform=transform)"
      ],
      "execution_count": 0,
      "outputs": []
    },
    {
      "cell_type": "code",
      "metadata": {
        "id": "3DZftAhhwaTu",
        "colab_type": "code",
        "outputId": "47749e2e-6231-4fbf-eaa8-80a1cd18b04b",
        "colab": {
          "base_uri": "https://localhost:8080/",
          "height": 34
        }
      },
      "source": [
        "train_data_reshaped = train_data.data.reshape(60000,784)\n",
        "test_data_reshaped = test_data.data.reshape(10000,784)\n",
        "pca = PCA(n_components=0.90)\n",
        "pca.fit(train_data_reshaped)\n",
        "print(pca.n_components_)\n",
        "# input_train_data = pca.transform(train_data_reshaped)\n",
        "input_test_data = pca.transform(test_data_reshaped)\n",
        "# restored_train_data = pca.inverse_transform(input_train_data)\n",
        "restored_test_data = pca.inverse_transform(input_test_data)\n",
        "# train_data_temp_ = torch.from_numpy(restored_train_data)\n",
        "test_data_temp_ = torch.from_numpy(restored_test_data)\n",
        "# train_data_final_ = train_data_temp_.reshape(-1,1,28,28)\n",
        "test_data_final_ = test_data_temp_.reshape(-1,1,28,28)"
      ],
      "execution_count": 0,
      "outputs": [
        {
          "output_type": "stream",
          "text": [
            "87\n"
          ],
          "name": "stdout"
        }
      ]
    },
    {
      "cell_type": "code",
      "metadata": {
        "id": "MpfDqk-4waRW",
        "colab_type": "code",
        "colab": {}
      },
      "source": [
        "num_workers = 0\n",
        "# how many samples per batch to load\n",
        "batch_size = 20\n",
        "\n",
        "# prepare data loaders\n",
        "# temp_train = torch.utils.data.TensorDataset(train_data_final_, train_data.targets)\n",
        "temp_test = torch.utils.data.TensorDataset(test_data_final_, test_data.targets)\n",
        "# train_loader = torch.utils.data.DataLoader(temp_train, batch_size=batch_size, num_workers=num_workers)\n",
        "test_loader = torch.utils.data.DataLoader(temp_test, batch_size=batch_size, num_workers=num_workers)\n",
        "train_loader_ = torch.utils.data.DataLoader(train_data, batch_size=batch_size, num_workers=num_workers)\n",
        "test_loader_ = torch.utils.data.DataLoader(test_data, batch_size=batch_size, num_workers=num_workers)"
      ],
      "execution_count": 0,
      "outputs": []
    },
    {
      "cell_type": "code",
      "metadata": {
        "id": "QsHj19MBwaPb",
        "colab_type": "code",
        "outputId": "97106dbc-0ae1-4a0d-dc1f-ce4e77273d5e",
        "colab": {
          "base_uri": "https://localhost:8080/",
          "height": 187
        }
      },
      "source": [
        "import torch.nn as nn\n",
        "import torch.nn.functional as F\n",
        "\n",
        "# define the NN architecture\n",
        "class ConvDenoiser(nn.Module):\n",
        "    def __init__(self):\n",
        "        super(ConvDenoiser, self).__init__()\n",
        "        ## encoder layers ##\n",
        "        # conv layer (depth from 1 --> 32), 3x3 kernels\n",
        "        self.conv1 = nn.Conv2d(1, 32, 3, padding=1)  \n",
        "        # conv layer (depth from 32 --> 16), 3x3 kernels\n",
        "        self.conv2 = nn.Conv2d(32, 16, 3, padding=1)\n",
        "        # conv layer (depth from 16 --> 8), 3x3 kernels\n",
        "        self.conv3 = nn.Conv2d(16, 8, 3, padding=1)\n",
        "        # pooling layer to reduce x-y dims by two; kernel and stride of 2\n",
        "        self.pool = nn.MaxPool2d(2, 2)\n",
        "        \n",
        "        ## decoder layers ##\n",
        "        # transpose layer, a kernel of 2 and a stride of 2 will increase the spatial dims by 2\n",
        "        self.t_conv1 = nn.ConvTranspose2d(8, 8, 3, stride=2)  # kernel_size=3 to get to a 7x7 image output\n",
        "        # two more transpose layers with a kernel of 2\n",
        "        self.t_conv2 = nn.ConvTranspose2d(8, 16, 2, stride=2)\n",
        "        self.t_conv3 = nn.ConvTranspose2d(16, 32, 2, stride=2)\n",
        "        # one, final, normal conv layer to decrease the depth\n",
        "        self.conv_out = nn.Conv2d(32, 1, 3, padding=1)\n",
        "\n",
        "\n",
        "    def forward(self, x):\n",
        "        ## encode ##\n",
        "        # add hidden layers with relu activation function\n",
        "        # and maxpooling after\n",
        "        x = F.relu(self.conv1(x))\n",
        "        x = self.pool(x)\n",
        "        # add second hidden layer\n",
        "        x = F.relu(self.conv2(x))\n",
        "        x = self.pool(x)\n",
        "        # add third hidden layer\n",
        "        x = F.relu(self.conv3(x))\n",
        "        x = self.pool(x)  # compressed representation\n",
        "        \n",
        "        ## decode ##\n",
        "        # add transpose conv layers, with relu activation function\n",
        "        x = F.relu(self.t_conv1(x))\n",
        "        x = F.relu(self.t_conv2(x))\n",
        "        x = F.relu(self.t_conv3(x))\n",
        "        # transpose again, output should have a sigmoid applied\n",
        "        x = torch.sigmoid(self.conv_out(x))\n",
        "                \n",
        "        return x\n",
        "\n",
        "# initialize the NN\n",
        "model = ConvDenoiser()\n",
        "print(model)"
      ],
      "execution_count": 0,
      "outputs": [
        {
          "output_type": "stream",
          "text": [
            "ConvDenoiser(\n",
            "  (conv1): Conv2d(1, 32, kernel_size=(3, 3), stride=(1, 1), padding=(1, 1))\n",
            "  (conv2): Conv2d(32, 16, kernel_size=(3, 3), stride=(1, 1), padding=(1, 1))\n",
            "  (conv3): Conv2d(16, 8, kernel_size=(3, 3), stride=(1, 1), padding=(1, 1))\n",
            "  (pool): MaxPool2d(kernel_size=2, stride=2, padding=0, dilation=1, ceil_mode=False)\n",
            "  (t_conv1): ConvTranspose2d(8, 8, kernel_size=(3, 3), stride=(2, 2))\n",
            "  (t_conv2): ConvTranspose2d(8, 16, kernel_size=(2, 2), stride=(2, 2))\n",
            "  (t_conv3): ConvTranspose2d(16, 32, kernel_size=(2, 2), stride=(2, 2))\n",
            "  (conv_out): Conv2d(32, 1, kernel_size=(3, 3), stride=(1, 1), padding=(1, 1))\n",
            ")\n"
          ],
          "name": "stdout"
        }
      ]
    },
    {
      "cell_type": "code",
      "metadata": {
        "id": "_7Ye4OrFwaNA",
        "colab_type": "code",
        "colab": {}
      },
      "source": [
        "# specify loss function\n",
        "criterion = nn.MSELoss()\n",
        "\n",
        "# specify loss function\n",
        "optimizer = torch.optim.Adam(model.parameters(), lr=0.001)"
      ],
      "execution_count": 0,
      "outputs": []
    },
    {
      "cell_type": "code",
      "metadata": {
        "id": "4jxHkGU3waJU",
        "colab_type": "code",
        "outputId": "eb047f8f-3471-40e4-e390-437492e6c260",
        "colab": {
          "base_uri": "https://localhost:8080/",
          "height": 102
        }
      },
      "source": [
        "n_epochs = 5\n",
        "\n",
        "# for adding noise to images\n",
        "noise_factor=0.2\n",
        "\n",
        "for epoch in range(1, n_epochs+1):\n",
        "    # monitor training loss\n",
        "    train_loss = 0.0\n",
        "    \n",
        "    ###################\n",
        "    # train the model #\n",
        "    ###################\n",
        "    for data in train_loader_:\n",
        "        # _ stands in for labels, here\n",
        "        # no need to flatten images\n",
        "        images, _ = data\n",
        "        \n",
        "        ## add random noise to the input images\n",
        "        noisy_imgs = images + noise_factor * torch.randn(*images.shape)\n",
        "        # Clip the images to be between 0 and 1\n",
        "        noisy_imgs = np.clip(noisy_imgs, 0., 1.)\n",
        "                \n",
        "        # clear the gradients of all optimized variables\n",
        "        optimizer.zero_grad()\n",
        "        ## forward pass: compute predicted outputs by passing *noisy* images to the model\n",
        "        outputs = model(noisy_imgs)\n",
        "        # calculate the loss\n",
        "        # the \"target\" is still the original, not-noisy images\n",
        "        loss = criterion(outputs, images)\n",
        "        # backward pass: compute gradient of the loss with respect to model parameters\n",
        "        loss.backward()\n",
        "        # perform a single optimization step (parameter update)\n",
        "        optimizer.step()\n",
        "        # update running training loss\n",
        "        train_loss += loss.item()*images.size(0)\n",
        "            \n",
        "    # print avg training statistics \n",
        "    train_loss = train_loss/len(train_loader_)\n",
        "    print('Epoch: {} \\tTraining Loss: {:.6f}'.format(\n",
        "        epoch, \n",
        "        train_loss\n",
        "        ))"
      ],
      "execution_count": 0,
      "outputs": [
        {
          "output_type": "stream",
          "text": [
            "Epoch: 1 \tTraining Loss: 0.536375\n",
            "Epoch: 2 \tTraining Loss: 0.491817\n",
            "Epoch: 3 \tTraining Loss: 0.465118\n",
            "Epoch: 4 \tTraining Loss: 0.446541\n",
            "Epoch: 5 \tTraining Loss: 0.431346\n"
          ],
          "name": "stdout"
        }
      ]
    },
    {
      "cell_type": "code",
      "metadata": {
        "id": "AcdFAVIqwaGP",
        "colab_type": "code",
        "outputId": "d4f0e2be-0ebe-4692-ab16-d3cb9ef114ee",
        "colab": {
          "base_uri": "https://localhost:8080/",
          "height": 185
        }
      },
      "source": [
        "# obtain one batch of test images\n",
        "dataiter = iter(test_loader_)\n",
        "images, labels = dataiter.next()\n",
        "dataiter_2 = iter(test_loader)\n",
        "images_2, labels_2 = dataiter_2.next()\n",
        "# add noise to the test images\n",
        "noisy_imgs = images + noise_factor * torch.randn(*images.shape)\n",
        "noisy_imgs = np.clip(noisy_imgs, 0., 1.)\n",
        "\n",
        "# get sample outputs\n",
        "output = model(noisy_imgs)\n",
        "# prep images for display\n",
        "noisy_imgs = images_2.numpy()\n",
        "\n",
        "# output is resized into a batch of images\n",
        "output = output.view(batch_size, 1, 28, 28)\n",
        "# use detach when it's an output that requires_grad\n",
        "output = output.detach().numpy()\n",
        "\n",
        "# plot the first ten input images and then reconstructed images\n",
        "fig, axes = plt.subplots(nrows=2, ncols=10, sharex=True, sharey=True, figsize=(25,4))\n",
        "\n",
        "# input images on top row, reconstructions on bottom\n",
        "for noisy_imgs, row in zip([noisy_imgs, output], axes):\n",
        "    for img, ax in zip(noisy_imgs, row):\n",
        "        ax.imshow(np.squeeze(img), cmap='gray')\n",
        "        ax.get_xaxis().set_visible(False)\n",
        "        ax.get_yaxis().set_visible(False)\n"
      ],
      "execution_count": 0,
      "outputs": [
        {
          "output_type": "display_data",
          "data": {
            "image/png": "[encoded data removed]",
            "text/plain": [
              "<Figure size 1800x288 with 20 Axes>"
            ]
          },
          "metadata": {
            "tags": []
          }
        }
      ]
    },
    {
      "cell_type": "markdown",
      "metadata": {
        "id": "Ctv6vttQ2a78",
        "colab_type": "text"
      },
      "source": [
        "### Observations: As we can see, here the images on the top are the reconstructed ones (variance = 90%) and the images beneath them are the denoised output from our NN"
      ]
    },
    {
      "cell_type": "code",
      "metadata": {
        "id": "h-Nyr0ofC736",
        "colab_type": "code",
        "colab": {}
      },
      "source": [
        "train_data_reshaped = train_data.data.reshape(60000,784)\n",
        "test_data_reshaped = test_data.data.reshape(10000,784)\n",
        "pca = PCA(n_components=0.90)\n",
        "pca.fit(train_data_reshaped)\n",
        "print(pca.n_components_)\n",
        "# input_train_data = pca.transform(train_data_reshaped)\n",
        "input_test_data = pca.transform(test_data_reshaped)\n",
        "# restored_train_data = pca.inverse_transform(input_train_data)\n",
        "restored_test_data = pca.inverse_transform(input_test_data)\n",
        "# train_data_temp_ = torch.from_numpy(restored_train_data)\n",
        "test_data_temp_ = torch.from_numpy(restored_test_data)\n",
        "# train_data_final_ = train_data_temp_.reshape(-1,1,28,28)\n",
        "test_data_final_ = test_data_temp_.reshape(-1,1,28,28)"
      ],
      "execution_count": 0,
      "outputs": []
    },
    {
      "cell_type": "code",
      "metadata": {
        "id": "WmWVwE_gBxSU",
        "colab_type": "code",
        "colab": {}
      },
      "source": [
        "def eval_net_b(epochs, batch_size):\n",
        "\n",
        "  ##### Prepare return values ##################################################\n",
        "  losses = []\n",
        "  train_acc = 0\n",
        "  test_acc = 0\n",
        "\n",
        "  ##### Create iterators for each dataset ######################################\n",
        "  temp_train = torch.utils.data.TensorDataset(train_data_final, train_data.targets)\n",
        "  temp_test = torch.utils.data.TensorDataset(test_data_final, test_data.targets)\n",
        "  train_loader = torch.utils.data.DataLoader(temp_train, batch_size=batch_size, shuffle=True)\n",
        "  test_loader = torch.utils.data.DataLoader(temp_test, batch_size=batch_size, shuffle=False)\n",
        "  # train_loader = torch.utils.data.DataLoader(train_data_final_re, batch_size=batch_size, shuffle=True)\n",
        "  # test_loader = torch.utils.data.DataLoader(train_data_final_re, batch_size=batch_size, shuffle=False)\n",
        "\n",
        "  ##### Define the network #####################################################\n",
        "  class Net(nn.Module):\n",
        "    def __init__(self):\n",
        "      super(Net, self).__init__()\n",
        "      self.conv1 = nn.Conv2d(1, 6, 3)     # 1 channel in, 6 filters out, 3x3 filters\n",
        "      self.pool = nn.MaxPool2d(2, 2)      # 2x2 pooling, with a stride of 2 (move the window by 2 pixels)\n",
        "      self.conv2 = nn.Conv2d(6, 16, 3)    # 6 filters in, 16 filters out, 3x3 filters\n",
        "      self.fc1 = nn.Linear(16 * 5 * 5, 120) # the 16 filtered images are reduced to 5x5 now, connect to 120 hidden units out\n",
        "      self.fc2 = nn.Linear(120, 84)       # 120 hidden units in, 84 hidden units out\n",
        "      self.fc3 = nn.Linear(84, 10)        # 84 hidden units in, 10 outputs units\n",
        "\n",
        "    def forward(self, x):\n",
        "      x = self.pool(F.relu(self.conv1(x)))\n",
        "      x = self.pool(F.relu(self.conv2(x)))\n",
        "      x = x.view(-1, 16 * 5 * 5) # .view() is similar to .reshape(), so this flattens x into a vector\n",
        "      x = F.relu(self.fc1(x))\n",
        "      x = F.relu(self.fc2(x))\n",
        "      x = F.log_softmax(self.fc3(x), dim=1)\n",
        "      return x\n",
        "  \n",
        "  ##### Initialize the network and optimizer ###################################\n",
        "  print(\"Initializing the network ...\")\n",
        "  net = Net()\n",
        "  criterion = nn.CrossEntropyLoss()\n",
        "  optimizer = optim.SGD(net.parameters(), lr=0.001, momentum=0.9) # lr = learning rate/step size\n",
        "\n",
        "  ##### Training the network ###################################################\n",
        "  print(\"Training the network ...\")\n",
        "  for e in range(epochs):  # loop over the dataset multiple times\n",
        "    print(\"Epoch: \", e+1)\n",
        "    for i, data in enumerate(train_loader, 0):\n",
        "      inputs, labels = data\n",
        "      optimizer.zero_grad() # zero the parameter gradients\n",
        "      \n",
        "      outputs = net(inputs.float()) # forward pass\n",
        "      loss = criterion(outputs, labels) # compute loss\n",
        "      loss.backward() # backward pass\n",
        "      optimizer.step() # gradient descent update\n",
        "\n",
        "      losses.append(loss.item())\n",
        "\n",
        "  ##### Evaluating the network on training data ################################\n",
        "  print(\"Evaluating on training data ...\")\n",
        "  correct = 0\n",
        "  total = 0\n",
        "  with torch.no_grad():\n",
        "    for data in train_loader:\n",
        "      inputs, labels = data\n",
        "      outputs = net(inputs.float())\n",
        "      _, predicted = torch.max(outputs.data, 1)\n",
        "      total += labels.size(0)\n",
        "      correct += (predicted == labels).sum().item()\n",
        "  train_acc = correct / total\n",
        "\n",
        "  ##### Evaluating the network on test data ####################################\n",
        "  print(\"Evaluating on test data ...\")\n",
        "  correct = 0\n",
        "  total = 0\n",
        "  with torch.no_grad():\n",
        "    for data in test_loader:\n",
        "      inputs, labels = data\n",
        "      outputs = net(inputs.float())\n",
        "      _, predicted = torch.max(outputs.data, 1)\n",
        "      total += labels.size(0)\n",
        "      correct += (predicted == labels).sum().item()\n",
        "  test_acc = correct / total\n",
        "\n",
        "  return losses, train_acc, test_acc"
      ],
      "execution_count": 0,
      "outputs": []
    },
    {
      "cell_type": "markdown",
      "metadata": {
        "id": "f4j088Qj26Kk",
        "colab_type": "text"
      },
      "source": [
        "### Training CNN for 90% and 50% variance retained images "
      ]
    },
    {
      "cell_type": "code",
      "metadata": {
        "id": "my4ZO3ZXBxL6",
        "colab_type": "code",
        "outputId": "5d7ae1b3-671e-4b6b-a9e6-c4f5a3c05362",
        "colab": {
          "base_uri": "https://localhost:8080/",
          "height": 836
        }
      },
      "source": [
        "variance_list=[0.90, 0.50]\n",
        "test_accuracies_CNN = []\n",
        "for variance in variance_list:\n",
        "  pca = PCA(n_components=variance)\n",
        "  pca.fit(train_data_reshaped)\n",
        "  print(pca.n_components_)\n",
        "  input_train_data = pca.transform(train_data_reshaped)\n",
        "  input_test_data = pca.transform(test_data_reshaped)\n",
        "  restored_train_data = pca.inverse_transform(input_train_data)\n",
        "  restored_test_data = pca.inverse_transform(input_test_data)\n",
        "  train_data_temp_ = torch.from_numpy(restored_train_data)\n",
        "  test_data_temp_ = torch.from_numpy(restored_test_data)\n",
        "  train_data_final_ = train_data_temp_.reshape(-1,1,28,28)\n",
        "  test_data_final_ = test_data_temp_.reshape(-1,1,28,28)\n",
        "  losses, train_acc, test_acc = eval_net_b(epochs=2, batch_size=100)\n",
        "  print(\"Training accuracy: \", train_acc)\n",
        "  print(\"Test accuracy: \", test_acc)\n",
        "  test_accuracies_CNN.append(test_acc)\n",
        "  plt.plot(losses)\n",
        "  plt.show()\n",
        "print(test_accuracies_CNN)"
      ],
      "execution_count": 0,
      "outputs": [
        {
          "output_type": "stream",
          "text": [
            "87\n",
            "Initializing the network ...\n",
            "Training the network ...\n",
            "Epoch:  1\n",
            "Epoch:  2\n",
            "Evaluating on training data ...\n",
            "Evaluating on test data ...\n",
            "Training accuracy:  0.9813\n",
            "Test accuracy:  0.9823\n"
          ],
          "name": "stdout"
        },
        {
          "output_type": "display_data",
          "data": {
            "image/png": "[encoded data removed]",
            "text/plain": [
              "<Figure size 432x288 with 1 Axes>"
            ]
          },
          "metadata": {
            "tags": []
          }
        },
        {
          "output_type": "stream",
          "text": [
            "11\n",
            "Initializing the network ...\n",
            "Training the network ...\n",
            "Epoch:  1\n",
            "Epoch:  2\n",
            "Evaluating on training data ...\n",
            "Evaluating on test data ...\n",
            "Training accuracy:  0.9287833333333333\n",
            "Test accuracy:  0.9284\n"
          ],
          "name": "stdout"
        },
        {
          "output_type": "display_data",
          "data": {
            "image/png": "[encoded data removed]",
            "text/plain": [
              "<Figure size 432x288 with 1 Axes>"
            ]
          },
          "metadata": {
            "tags": []
          }
        },
        {
          "output_type": "stream",
          "text": [
            "[0.9823, 0.9284]\n"
          ],
          "name": "stdout"
        }
      ]
    },
    {
      "cell_type": "code",
      "metadata": {
        "id": "RxnXK5EcBxFN",
        "colab_type": "code",
        "outputId": "58d417a0-d8ab-4e7f-8fa5-5c8e05e449a1",
        "colab": {
          "base_uri": "https://localhost:8080/",
          "height": 282
        }
      },
      "source": [
        "var_lvls = ['50%','90%']\n",
        "plt.plot(sorted(test_accuracies_CNN), linestyle='-', color='g', label='Convolutional NN ')\n",
        "plt.xticks([0,1], var_lvls)\n",
        "plt.legend(loc='best')"
      ],
      "execution_count": 0,
      "outputs": [
        {
          "output_type": "execute_result",
          "data": {
            "text/plain": [
              "<matplotlib.legend.Legend at 0x7f95438389e8>"
            ]
          },
          "metadata": {
            "tags": []
          },
          "execution_count": 25
        },
        {
          "output_type": "display_data",
          "data": {
            "image/png": "[encoded data removed]",
            "text/plain": [
              "<Figure size 432x288 with 1 Axes>"
            ]
          },
          "metadata": {
            "tags": []
          }
        }
      ]
    },
    {
      "cell_type": "markdown",
      "metadata": {
        "id": "E2kKgkdu4nKu",
        "colab_type": "text"
      },
      "source": [
        "### Observations: The accuracy plot for CNN with 50% and 90% variance levels\n",
        "Since it has only 2 accuracy plot, it comes out as a straight line.<br>\n",
        "As expected, the accuracies for 90% is relatively higher due to higher feature retention compared to 50%"
      ]
    },
    {
      "cell_type": "code",
      "metadata": {
        "id": "2vQr7TnmBw7U",
        "colab_type": "code",
        "colab": {}
      },
      "source": [
        ""
      ],
      "execution_count": 0,
      "outputs": []
    }
  ]
}
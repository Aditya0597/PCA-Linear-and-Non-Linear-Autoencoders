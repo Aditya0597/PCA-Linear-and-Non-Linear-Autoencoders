{
 "cells": [
  {
   "cell_type": "markdown",
   "metadata": {
    "colab_type": "text",
    "id": "NN8WKk5Oz67V"
   },
   "source": [
    "## b) [3 pts] PCA for feature selection: \n",
    "Use PCA on MNIST dataset to select features by retaining the following levels of variance (information): 50%, 75%, 90%, 95%. For each of this variance level, you need to: \n",
    "(i) \n",
    "\n",
    "1.   Use the retained features to train a simple feed-forward neural network with one hidden layer to classify the images\n",
    "2.   Reconstruct the 28×28 images from the retained features (obtained using PCA with different variance levels) and train the CNN network defined in Q1 to classify these images\n",
    "\n",
    "Plot the performances (in terms of accuracy) for parts (i) and (ii). Explain your observations from parts (i) and (ii) in terms of performance."
   ]
  },
  {
   "cell_type": "code",
   "execution_count": 0,
   "metadata": {
    "colab": {},
    "colab_type": "code",
    "id": "aOahziwOJQTe"
   },
   "outputs": [],
   "source": [
    "from sklearn.datasets import fetch_openml\n",
    "from sklearn.preprocessing import StandardScaler\n",
    "from sklearn.decomposition import PCA\n",
    "from sklearn.model_selection import train_test_split\n",
    "# PyTorch packages\n",
    "import torch\n",
    "import torch.nn as nn\n",
    "import torch.nn.functional as F\n",
    "import torch.optim as optim\n",
    "# torchvision for loading MNIST dataset\n",
    "import torchvision\n",
    "from torchvision import datasets, transforms\n",
    "# For plotting\n",
    "import matplotlib.pyplot as plt"
   ]
  },
  {
   "cell_type": "code",
   "execution_count": 0,
   "metadata": {
    "colab": {
     "base_uri": "https://localhost:8080/",
     "height": 383,
     "referenced_widgets": [
      "e79d904cbf4d44ff92a27b6e0c489cbd",
      "fd0d37de7f9a494abac30961b02be151",
      "63e313d4f9b54925a6313865d756b32f",
      "6b65840c3fda4983afcc71317036e84c",
      "84394691ef114e4c8cc5d06992ed8095",
      "8537c2d5ee03437e9d7a0b01403bbdc2",
      "0d44d5c2501f4844a74f85ede6aacd09",
      "bb6c1ea9620b43eb8b25e4371e7b3efa",
      "1353fd61339b491fa1227810aae00cbd",
      "ade9de077bd34eb5bc9a36aac4af4646",
      "55931fc7abd74b419e60258b5dcc0137",
      "0ae2f50989ab476d9e50ee411ca6695f",
      "610ae231da6648c6aec29a1b378ae067",
      "3dc33cd3d18e4a8b8fa8e1d99ba1769e",
      "b923d1dff1f54f13a40dd18d41f8dcc6",
      "73878a733ac44a6483ee49f90d6e02ac",
      "b66e74a4353d4339a689ca165262b5c7",
      "8df1059632f240898f894b6364c4cb9e",
      "31e0136ddeca4b64b0942d191af80e8b",
      "be124e895e4a4d8eabb4686a25a98981",
      "19ec773a6e8a497e9db83a8c9125a4dd",
      "109619bee5104067a5cb895ed183678d",
      "434748e6dea74b3684d2309c83083885",
      "00db3c46a1ef4e8e8b5b5a03cebe04f7",
      "31a7386458f8481ca9ba6a0401133878",
      "402658d45394496fb235b1d49291ef0a",
      "83b1e2dd9dae409ca01ccd5cb4e6afe7",
      "9186c697d7ed4ed2853fb2cfd88ba017",
      "813b600f464d4a038ecdcbf2f5946477",
      "e14b0454e8b349b7bdbed9c6491ac0bb",
      "2437653047114cee8b40795566e0a357",
      "7c35ab9a890b4ca9918caa5db53601ee"
     ]
    },
    "colab_type": "code",
    "id": "3zniYrhHJhAZ",
    "outputId": "8740b00a-3c7e-4265-e566-5a3c30be1364"
   },
   "outputs": [
    {
     "name": "stdout",
     "output_type": "stream",
     "text": [
      "Downloading http://yann.lecun.com/exdb/mnist/train-images-idx3-ubyte.gz to ./mnist_data/MNIST/raw/train-images-idx3-ubyte.gz\n"
     ]
    },
    {
     "data": {
      "application/vnd.jupyter.widget-view+json": {
       "model_id": "e79d904cbf4d44ff92a27b6e0c489cbd",
       "version_major": 2,
       "version_minor": 0
      },
      "text/plain": [
       "HBox(children=(IntProgress(value=1, bar_style='info', max=1), HTML(value='')))"
      ]
     },
     "metadata": {
      "tags": []
     },
     "output_type": "display_data"
    },
    {
     "name": "stdout",
     "output_type": "stream",
     "text": [
      "Extracting ./mnist_data/MNIST/raw/train-images-idx3-ubyte.gz to ./mnist_data/MNIST/raw\n",
      "Downloading http://yann.lecun.com/exdb/mnist/train-labels-idx1-ubyte.gz to ./mnist_data/MNIST/raw/train-labels-idx1-ubyte.gz\n"
     ]
    },
    {
     "data": {
      "application/vnd.jupyter.widget-view+json": {
       "model_id": "1353fd61339b491fa1227810aae00cbd",
       "version_major": 2,
       "version_minor": 0
      },
      "text/plain": [
       "HBox(children=(IntProgress(value=1, bar_style='info', max=1), HTML(value='')))"
      ]
     },
     "metadata": {
      "tags": []
     },
     "output_type": "display_data"
    },
    {
     "name": "stdout",
     "output_type": "stream",
     "text": [
      "Extracting ./mnist_data/MNIST/raw/train-labels-idx1-ubyte.gz to ./mnist_data/MNIST/raw\n",
      "Downloading http://yann.lecun.com/exdb/mnist/t10k-images-idx3-ubyte.gz to ./mnist_data/MNIST/raw/t10k-images-idx3-ubyte.gz\n"
     ]
    },
    {
     "data": {
      "application/vnd.jupyter.widget-view+json": {
       "model_id": "b66e74a4353d4339a689ca165262b5c7",
       "version_major": 2,
       "version_minor": 0
      },
      "text/plain": [
       "HBox(children=(IntProgress(value=1, bar_style='info', max=1), HTML(value='')))"
      ]
     },
     "metadata": {
      "tags": []
     },
     "output_type": "display_data"
    },
    {
     "name": "stdout",
     "output_type": "stream",
     "text": [
      "Extracting ./mnist_data/MNIST/raw/t10k-images-idx3-ubyte.gz to ./mnist_data/MNIST/raw\n",
      "Downloading http://yann.lecun.com/exdb/mnist/t10k-labels-idx1-ubyte.gz to ./mnist_data/MNIST/raw/t10k-labels-idx1-ubyte.gz\n",
      "\n",
      "\n"
     ]
    },
    {
     "data": {
      "application/vnd.jupyter.widget-view+json": {
       "model_id": "31a7386458f8481ca9ba6a0401133878",
       "version_major": 2,
       "version_minor": 0
      },
      "text/plain": [
       "HBox(children=(IntProgress(value=1, bar_style='info', max=1), HTML(value='')))"
      ]
     },
     "metadata": {
      "tags": []
     },
     "output_type": "display_data"
    },
    {
     "name": "stdout",
     "output_type": "stream",
     "text": [
      "Extracting ./mnist_data/MNIST/raw/t10k-labels-idx1-ubyte.gz to ./mnist_data/MNIST/raw\n",
      "Processing...\n",
      "Done!\n",
      "Training examples:  60000\n",
      "Test examples:  10000\n"
     ]
    }
   ],
   "source": [
    "# Download the training data\n",
    "train_data = datasets.MNIST('./mnist_data', download=True, train=True, \n",
    "                            transform=transforms.Compose([\n",
    "                                                          transforms.ToTensor()\n",
    "                                                          ]))\n",
    "\n",
    "# Download the test data\n",
    "test_data = datasets.MNIST('./mnist_data', download=True, train=False, \n",
    "                           transform=transforms.Compose([\n",
    "                                                         transforms.ToTensor()\n",
    "                                                         ]))\n",
    "\n",
    "classes = [i for i in range(10)]\n",
    "\n",
    "print(\"Training examples: \", len(train_data))\n",
    "print(\"Test examples: \", len(test_data))"
   ]
  },
  {
   "cell_type": "code",
   "execution_count": 0,
   "metadata": {
    "colab": {},
    "colab_type": "code",
    "id": "gdbbWc9eJkXR"
   },
   "outputs": [],
   "source": [
    "train_data_reshaped = train_data.data.reshape(60000,784)\n",
    "test_data_reshaped = test_data.data.reshape(10000,784)"
   ]
  },
  {
   "cell_type": "code",
   "execution_count": 0,
   "metadata": {
    "colab": {},
    "colab_type": "code",
    "id": "4Ksp8SIpJoP6"
   },
   "outputs": [],
   "source": [
    "def eval_net(epochs, batch_size, features):\n",
    "\n",
    "  ##### Prepare return values ##################################################\n",
    "  losses = []\n",
    "  train_acc = 0\n",
    "  test_acc = 0\n",
    "\n",
    "  ##### Create iterators for each dataset ######################################\n",
    "  temp_train = torch.utils.data.TensorDataset(train_data_final, train_data.targets)\n",
    "  temp_test = torch.utils.data.TensorDataset(test_data_final, test_data.targets)\n",
    "  train_loader = torch.utils.data.DataLoader(temp_train, batch_size=batch_size, shuffle=True)\n",
    "  test_loader = torch.utils.data.DataLoader(temp_test, batch_size=batch_size, shuffle=False)\n",
    "  ##### Define the network #####################################################\n",
    "  class Net(nn.Module):\n",
    "    def __init__(self):\n",
    "      super(Net, self).__init__()\n",
    "      self.fc1 = nn.Linear(features, 120) # connect to 120 hidden units out\n",
    "      self.fc2 = nn.Linear(120, 10)       # 120 hidden units in, 154 hidden units out\n",
    "\n",
    "    def forward(self, x):\n",
    "      x = self.fc1(x)\n",
    "      x = F.log_softmax(self.fc2(x), dim=1)\n",
    "      return x\n",
    "  \n",
    "  ##### Initialize the network and optimizer ###################################\n",
    "  print(\"Initializing the network ...\")\n",
    "  net = Net()\n",
    "  criterion = nn.CrossEntropyLoss()\n",
    "  optimizer = optim.Adam(net.parameters(), lr=0.001) # lr = learning rate/step size\n",
    "\n",
    "  ##### Training the network ###################################################\n",
    "  print(\"Training the network ...\")\n",
    "  for e in range(epochs):  # loop over the dataset multiple times\n",
    "    print(\"Epoch: \", e+1)\n",
    "    for i, data in enumerate(train_loader, 0):\n",
    "      inputs, labels = data\n",
    "      optimizer.zero_grad() # zero the parameter gradients\n",
    "\n",
    "      outputs = net(inputs.float()) # forward pass\n",
    "      loss = criterion(outputs, labels) # compute loss\n",
    "      loss.backward() # backward pass\n",
    "      optimizer.step() # gradient descent update\n",
    "\n",
    "      losses.append(loss.item())\n",
    "\n",
    "  ##### Evaluating the network on training data ################################\n",
    "  print(\"Evaluating on training data ...\")\n",
    "  correct = 0\n",
    "  total = 0\n",
    "  with torch.no_grad():\n",
    "    for data in train_loader:\n",
    "      inputs, labels = data\n",
    "      outputs = net(inputs.float())\n",
    "      _, predicted = torch.max(outputs.data, 1)\n",
    "      total += labels.size(0)\n",
    "      correct += (predicted == labels).sum().item()\n",
    "  train_acc = correct / total\n",
    "\n",
    "  ##### Evaluating the network on test data ####################################\n",
    "  print(\"Evaluating on test data ...\")\n",
    "  correct = 0\n",
    "  total = 0\n",
    "  with torch.no_grad():\n",
    "    for data in test_loader:\n",
    "      inputs, labels = data\n",
    "      outputs = net(inputs.float())\n",
    "      _, predicted = torch.max(outputs.data, 1)\n",
    "      total += labels.size(0)\n",
    "      correct += (predicted == labels).sum().item()\n",
    "  test_acc = correct / total\n",
    "\n",
    "  return losses, train_acc, test_acc"
   ]
  },
  {
   "cell_type": "code",
   "execution_count": 0,
   "metadata": {
    "colab": {},
    "colab_type": "code",
    "id": "C6b8PNO7JsMd"
   },
   "outputs": [],
   "source": [
    "def eval_net_b(epochs, batch_size):\n",
    "\n",
    "  ##### Prepare return values ##################################################\n",
    "  losses = []\n",
    "  train_acc = 0\n",
    "  test_acc = 0\n",
    "\n",
    "  ##### Create iterators for each dataset ######################################\n",
    "  temp_train = torch.utils.data.TensorDataset(train_data_final_, train_data.targets)\n",
    "  temp_test = torch.utils.data.TensorDataset(test_data_final_, test_data.targets)\n",
    "  train_loader = torch.utils.data.DataLoader(temp_train, batch_size=batch_size, shuffle=True)\n",
    "  test_loader = torch.utils.data.DataLoader(temp_test, batch_size=batch_size, shuffle=False)\n",
    "  # train_loader = torch.utils.data.DataLoader(train_data_final_re, batch_size=batch_size, shuffle=True)\n",
    "  # test_loader = torch.utils.data.DataLoader(train_data_final_re, batch_size=batch_size, shuffle=False)\n",
    "\n",
    "  ##### Define the network #####################################################\n",
    "  class Net(nn.Module):\n",
    "    def __init__(self):\n",
    "      super(Net, self).__init__()\n",
    "      self.conv1 = nn.Conv2d(1, 6, 3)     # 1 channel in, 6 filters out, 3x3 filters\n",
    "      self.pool = nn.MaxPool2d(2, 2)      # 2x2 pooling, with a stride of 2 (move the window by 2 pixels)\n",
    "      self.conv2 = nn.Conv2d(6, 16, 3)    # 6 filters in, 16 filters out, 3x3 filters\n",
    "      self.fc1 = nn.Linear(16 * 5 * 5, 120) # the 16 filtered images are reduced to 5x5 now, connect to 120 hidden units out\n",
    "      self.fc2 = nn.Linear(120, 84)       # 120 hidden units in, 84 hidden units out\n",
    "      self.fc3 = nn.Linear(84, 10)        # 84 hidden units in, 10 outputs units\n",
    "\n",
    "    def forward(self, x):\n",
    "      x = self.pool(F.relu(self.conv1(x)))\n",
    "      x = self.pool(F.relu(self.conv2(x)))\n",
    "      x = x.view(-1, 16 * 5 * 5) # .view() is similar to .reshape(), so this flattens x into a vector\n",
    "      x = F.relu(self.fc1(x))\n",
    "      x = F.relu(self.fc2(x))\n",
    "      x = F.log_softmax(self.fc3(x), dim=1)\n",
    "      return x\n",
    "  \n",
    "  ##### Initialize the network and optimizer ###################################\n",
    "  print(\"Initializing the network ...\")\n",
    "  net = Net()\n",
    "  criterion = nn.CrossEntropyLoss()\n",
    "  optimizer = optim.SGD(net.parameters(), lr=0.001, momentum=0.9) # lr = learning rate/step size\n",
    "\n",
    "  ##### Training the network ###################################################\n",
    "  print(\"Training the network ...\")\n",
    "  for e in range(epochs):  # loop over the dataset multiple times\n",
    "    print(\"Epoch: \", e+1)\n",
    "    for i, data in enumerate(train_loader, 0):\n",
    "      inputs, labels = data\n",
    "      optimizer.zero_grad() # zero the parameter gradients\n",
    "      \n",
    "      outputs = net(inputs.float()) # forward pass\n",
    "      loss = criterion(outputs, labels) # compute loss\n",
    "      loss.backward() # backward pass\n",
    "      optimizer.step() # gradient descent update\n",
    "\n",
    "      losses.append(loss.item())\n",
    "\n",
    "  ##### Evaluating the network on training data ################################\n",
    "  print(\"Evaluating on training data ...\")\n",
    "  correct = 0\n",
    "  total = 0\n",
    "  with torch.no_grad():\n",
    "    for data in train_loader:\n",
    "      inputs, labels = data\n",
    "      outputs = net(inputs.float())\n",
    "      _, predicted = torch.max(outputs.data, 1)\n",
    "      total += labels.size(0)\n",
    "      correct += (predicted == labels).sum().item()\n",
    "  train_acc = correct / total\n",
    "\n",
    "  ##### Evaluating the network on test data ####################################\n",
    "  print(\"Evaluating on test data ...\")\n",
    "  correct = 0\n",
    "  total = 0\n",
    "  with torch.no_grad():\n",
    "    for data in test_loader:\n",
    "      inputs, labels = data\n",
    "      outputs = net(inputs.float())\n",
    "      _, predicted = torch.max(outputs.data, 1)\n",
    "      total += labels.size(0)\n",
    "      correct += (predicted == labels).sum().item()\n",
    "  test_acc = correct / total\n",
    "\n",
    "  return losses, train_acc, test_acc"
   ]
  },
  {
   "cell_type": "code",
   "execution_count": 0,
   "metadata": {
    "colab": {},
    "colab_type": "code",
    "id": "vYuSmb7wJ8ix"
   },
   "outputs": [],
   "source": [
    "variance_list=[0.95, 0.90, 0.75, 0.50]"
   ]
  },
  {
   "cell_type": "code",
   "execution_count": 0,
   "metadata": {
    "colab": {
     "base_uri": "https://localhost:8080/",
     "height": 1000
    },
    "colab_type": "code",
    "id": "3HOhu4M7J2Uz",
    "outputId": "88847895-a2ca-4332-c5af-7dc77e38e8ac"
   },
   "outputs": [
    {
     "name": "stdout",
     "output_type": "stream",
     "text": [
      "154\n",
      "Initializing the network ...\n",
      "Training the network ...\n",
      "Epoch:  1\n",
      "Epoch:  2\n",
      "Evaluating on training data ...\n",
      "Evaluating on test data ...\n",
      "Training accuracy:  0.8721333333333333\n",
      "Test accuracy:  0.8759\n"
     ]
    },
    {
     "data": {
      "image/png": "[encoded data removed]",
      "text/plain": [
       "<Figure size 432x288 with 1 Axes>"
      ]
     },
     "metadata": {
      "tags": []
     },
     "output_type": "display_data"
    },
    {
     "name": "stdout",
     "output_type": "stream",
     "text": [
      "87\n",
      "Initializing the network ...\n",
      "Training the network ...\n",
      "Epoch:  1\n",
      "Epoch:  2\n",
      "Evaluating on training data ...\n",
      "Evaluating on test data ...\n",
      "Training accuracy:  0.8619\n",
      "Test accuracy:  0.8663\n"
     ]
    },
    {
     "data": {
      "image/png": "[encoded data removed]",
      "text/plain": [
       "<Figure size 432x288 with 1 Axes>"
      ]
     },
     "metadata": {
      "tags": []
     },
     "output_type": "display_data"
    },
    {
     "name": "stdout",
     "output_type": "stream",
     "text": [
      "34\n",
      "Initializing the network ...\n",
      "Training the network ...\n",
      "Epoch:  1\n",
      "Epoch:  2\n",
      "Evaluating on training data ...\n",
      "Evaluating on test data ...\n",
      "Training accuracy:  0.82505\n",
      "Test accuracy:  0.8299\n"
     ]
    },
    {
     "data": {
      "image/png": "[encoded data removed]",
      "text/plain": [
       "<Figure size 432x288 with 1 Axes>"
      ]
     },
     "metadata": {
      "tags": []
     },
     "output_type": "display_data"
    },
    {
     "name": "stdout",
     "output_type": "stream",
     "text": [
      "11\n",
      "Initializing the network ...\n",
      "Training the network ...\n",
      "Epoch:  1\n",
      "Epoch:  2\n",
      "Evaluating on training data ...\n",
      "Evaluating on test data ...\n",
      "Training accuracy:  0.7010666666666666\n",
      "Test accuracy:  0.7077\n"
     ]
    },
    {
     "data": {
      "image/png": "[encoded data removed]",
      "text/plain": [
       "<Figure size 432x288 with 1 Axes>"
      ]
     },
     "metadata": {
      "tags": []
     },
     "output_type": "display_data"
    },
    {
     "name": "stdout",
     "output_type": "stream",
     "text": [
      "[0.8759, 0.8663, 0.8299, 0.7077]\n"
     ]
    }
   ],
   "source": [
    "test_accuracies_FNN=[]\n",
    "for variance in variance_list:\n",
    "  pca = PCA(n_components=variance)\n",
    "  pca.fit(train_data_reshaped)\n",
    "  print(pca.n_components_)\n",
    "  input_train_data = pca.transform(train_data_reshaped)\n",
    "  input_test_data = pca.transform(test_data_reshaped)\n",
    "  train_data_final = torch.from_numpy(input_train_data)\n",
    "  test_data_final = torch.from_numpy(input_test_data)\n",
    "  losses, train_acc, test_acc = eval_net(epochs=2, batch_size=100, features = pca.n_components_ )\n",
    "  print(\"Training accuracy: \", train_acc)\n",
    "  print(\"Test accuracy: \", test_acc)\n",
    "  test_accuracies_FNN.append(test_acc)\n",
    "  plt.plot(losses)\n",
    "  plt.show()\n",
    "print(test_accuracies_FNN)"
   ]
  },
  {
   "cell_type": "code",
   "execution_count": 0,
   "metadata": {
    "colab": {
     "base_uri": "https://localhost:8080/",
     "height": 1000
    },
    "colab_type": "code",
    "id": "hqUlKY4iJz4q",
    "outputId": "d1137ecf-c6c2-4611-eccf-e6d719aa38c6"
   },
   "outputs": [
    {
     "name": "stdout",
     "output_type": "stream",
     "text": [
      "154\n",
      "Initializing the network ...\n",
      "Training the network ...\n",
      "Epoch:  1\n",
      "Epoch:  2\n",
      "Evaluating on training data ...\n",
      "Evaluating on test data ...\n",
      "Training accuracy:  0.97995\n",
      "Test accuracy:  0.9778\n"
     ]
    },
    {
     "data": {
      "image/png": "[encoded data removed]",
      "text/plain": [
       "<Figure size 432x288 with 1 Axes>"
      ]
     },
     "metadata": {
      "tags": []
     },
     "output_type": "display_data"
    },
    {
     "name": "stdout",
     "output_type": "stream",
     "text": [
      "87\n",
      "Initializing the network ...\n",
      "Training the network ...\n",
      "Epoch:  1\n",
      "Epoch:  2\n",
      "Evaluating on training data ...\n",
      "Evaluating on test data ...\n",
      "Training accuracy:  0.97675\n",
      "Test accuracy:  0.9765\n"
     ]
    },
    {
     "data": {
      "image/png": "[encoded data removed]",
      "text/plain": [
       "<Figure size 432x288 with 1 Axes>"
      ]
     },
     "metadata": {
      "tags": []
     },
     "output_type": "display_data"
    },
    {
     "name": "stdout",
     "output_type": "stream",
     "text": [
      "34\n",
      "Initializing the network ...\n",
      "Training the network ...\n",
      "Epoch:  1\n",
      "Epoch:  2\n",
      "Evaluating on training data ...\n",
      "Evaluating on test data ...\n",
      "Training accuracy:  0.9742666666666666\n",
      "Test accuracy:  0.9734\n"
     ]
    },
    {
     "data": {
      "image/png": "[encoded data removed]",
      "text/plain": [
       "<Figure size 432x288 with 1 Axes>"
      ]
     },
     "metadata": {
      "tags": []
     },
     "output_type": "display_data"
    },
    {
     "name": "stdout",
     "output_type": "stream",
     "text": [
      "11\n",
      "Initializing the network ...\n",
      "Training the network ...\n",
      "Epoch:  1\n",
      "Epoch:  2\n",
      "Evaluating on training data ...\n",
      "Evaluating on test data ...\n",
      "Training accuracy:  0.9196333333333333\n",
      "Test accuracy:  0.92\n"
     ]
    },
    {
     "data": {
      "image/png": "[encoded data removed]",
      "text/plain": [
       "<Figure size 432x288 with 1 Axes>"
      ]
     },
     "metadata": {
      "tags": []
     },
     "output_type": "display_data"
    },
    {
     "name": "stdout",
     "output_type": "stream",
     "text": [
      "[0.9778, 0.9765, 0.9734, 0.92]\n"
     ]
    }
   ],
   "source": [
    "variance_list=[0.95, 0.90, 0.75, 0.50]\n",
    "test_accuracies_CNN = []\n",
    "for variance in variance_list:\n",
    "  pca = PCA(n_components=variance)\n",
    "  pca.fit(train_data_reshaped)\n",
    "  print(pca.n_components_)\n",
    "  input_train_data = pca.transform(train_data_reshaped)\n",
    "  input_test_data = pca.transform(test_data_reshaped)\n",
    "  restored_train_data = pca.inverse_transform(input_train_data)\n",
    "  restored_test_data = pca.inverse_transform(input_test_data)\n",
    "  train_data_temp_ = torch.from_numpy(restored_train_data)\n",
    "  test_data_temp_ = torch.from_numpy(restored_test_data)\n",
    "  train_data_final_ = train_data_temp_.reshape(-1,1,28,28)\n",
    "  test_data_final_ = test_data_temp_.reshape(-1,1,28,28)\n",
    "  losses, train_acc, test_acc = eval_net_b(epochs=2, batch_size=100)\n",
    "  print(\"Training accuracy: \", train_acc)\n",
    "  print(\"Test accuracy: \", test_acc)\n",
    "  test_accuracies_CNN.append(test_acc)\n",
    "  plt.plot(losses)\n",
    "  plt.show()\n",
    "print(test_accuracies_CNN)"
   ]
  },
  {
   "cell_type": "code",
   "execution_count": 0,
   "metadata": {
    "colab": {
     "base_uri": "https://localhost:8080/",
     "height": 85
    },
    "colab_type": "code",
    "id": "r1KZPZL9KJQb",
    "outputId": "7dff3718-9d31-482c-f9e2-95b9c8d1b94c"
   },
   "outputs": [
    {
     "name": "stdout",
     "output_type": "stream",
     "text": [
      "[0.9778, 0.9765, 0.9734, 0.92]\n",
      "[0.8759, 0.8663, 0.8299, 0.7077]\n",
      "[0.9778, 0.9765, 0.9734, 0.92]\n",
      "[0.8759, 0.8663, 0.8299, 0.7077]\n"
     ]
    }
   ],
   "source": [
    "import copy\n",
    "print(test_accuracies_CNN)\n",
    "print(test_accuracies_FNN)\n",
    "acc_CNN = copy.deepcopy(test_accuracies_CNN)\n",
    "acc_FNN = copy.deepcopy(test_accuracies_FNN)\n",
    "print(acc_CNN)\n",
    "print(acc_FNN)\n"
   ]
  },
  {
   "cell_type": "code",
   "execution_count": 0,
   "metadata": {
    "colab": {
     "base_uri": "https://localhost:8080/",
     "height": 51
    },
    "colab_type": "code",
    "id": "Gb6keQXxRdFU",
    "outputId": "8f8c4eb4-5ccf-4599-bdfb-283d89b36100"
   },
   "outputs": [
    {
     "name": "stdout",
     "output_type": "stream",
     "text": [
      "['0.98', '0.98', '0.97', '0.92']\n",
      "['0.88', '0.87', '0.83', '0.71']\n"
     ]
    }
   ],
   "source": [
    "acc_CNN = [ '%.2f' % elem for elem in acc_CNN ]\n",
    "acc_FNN = [ '%.2f' % elem for elem in acc_FNN ]\n",
    "print(acc_CNN)\n",
    "print(acc_FNN)"
   ]
  },
  {
   "cell_type": "code",
   "execution_count": 0,
   "metadata": {
    "colab": {
     "base_uri": "https://localhost:8080/",
     "height": 51
    },
    "colab_type": "code",
    "id": "OXkc5JesR_GI",
    "outputId": "d7b6df25-468a-43c4-a1e5-115f7fde4d4b"
   },
   "outputs": [
    {
     "name": "stdout",
     "output_type": "stream",
     "text": [
      "[0.98, 0.98, 0.97, 0.92]\n",
      "[0.88, 0.87, 0.83, 0.71]\n"
     ]
    }
   ],
   "source": [
    "acc_CNN = [float(i) for i in acc_CNN]\n",
    "acc_FNN = [float(i) for i in acc_FNN]\n",
    "print(acc_CNN)\n",
    "print(acc_FNN)"
   ]
  },
  {
   "cell_type": "code",
   "execution_count": 0,
   "metadata": {
    "colab": {
     "base_uri": "https://localhost:8080/",
     "height": 51
    },
    "colab_type": "code",
    "id": "qPrSMLjPRifN",
    "outputId": "ef772c22-8bbb-4e47-92a1-2bf30c59d36d"
   },
   "outputs": [
    {
     "name": "stdout",
     "output_type": "stream",
     "text": [
      "[0.92, 0.97, 0.98, 0.98]\n",
      "[0.71, 0.83, 0.87, 0.88]\n"
     ]
    }
   ],
   "source": [
    "acc_CNN = sorted(acc_CNN)\n",
    "acc_FNN = sorted(acc_FNN)\n",
    "print(acc_CNN)\n",
    "print(acc_FNN)"
   ]
  },
  {
   "cell_type": "code",
   "execution_count": 0,
   "metadata": {
    "colab": {
     "base_uri": "https://localhost:8080/",
     "height": 282
    },
    "colab_type": "code",
    "id": "U_l8j91WQU5e",
    "outputId": "86d29ffc-3e8b-489d-b75d-86cd9192b310"
   },
   "outputs": [
    {
     "data": {
      "text/plain": [
       "<matplotlib.legend.Legend at 0x7f2c98600080>"
      ]
     },
     "execution_count": 41,
     "metadata": {
      "tags": []
     },
     "output_type": "execute_result"
    },
    {
     "data": {
      "image/png": "[encoded data removed]",
      "text/plain": [
       "<Figure size 432x288 with 1 Axes>"
      ]
     },
     "metadata": {
      "tags": []
     },
     "output_type": "display_data"
    }
   ],
   "source": [
    "var_lvls = ['50%','75%','90%','95%']\n",
    "plt.plot(acc_FNN, linestyle=':', color='r', label='Feedforward NN')\n",
    "plt.plot(acc_CNN, linestyle='-', color='g', label='Convolutional NN ')\n",
    "plt.xticks([0,1,2,3], var_lvls)\n",
    "plt.legend(loc='best')"
   ]
  },
  {
   "cell_type": "markdown",
   "metadata": {
    "colab_type": "text",
    "id": "ZMn7dIzI0saj"
   },
   "source": [
    "## Observations:\n",
    "\n",
    "\n",
    "1.   With the different retained variance levels, CNN does an excellent job in classifying reconstructed images. In contrast, Feedforward NN(FNN) does satisfactory job even with original images. \n",
    "2.   The accuracy plot shows as that the plot for FNN becomes very steep once we have extremely low amount of features. \n",
    "\n"
   ]
  }
 ],
 "metadata": {
  "colab": {
   "collapsed_sections": [],
   "name": "Assignment_4_part_b.ipynb",
   "provenance": []
  },
  "kernelspec": {
   "display_name": "Python 3",
   "language": "python",
   "name": "python3"
  },
  "language_info": {
   "codemirror_mode": {
    "name": "ipython",
    "version": 3
   },
   "file_extension": ".py",
   "mimetype": "text/x-python",
   "name": "python",
   "nbconvert_exporter": "python",
   "pygments_lexer": "ipython3",
   "version": "3.7.3"
  },
  "widgets": {
   "application/vnd.jupyter.widget-state+json": {
    "00db3c46a1ef4e8e8b5b5a03cebe04f7": {
     "model_module": "@jupyter-widgets/base",
     "model_name": "LayoutModel",
     "state": {
      "_model_module": "@jupyter-widgets/base",
      "_model_module_version": "1.2.0",
      "_model_name": "LayoutModel",
      "_view_count": null,
      "_view_module": "@jupyter-widgets/base",
      "_view_module_version": "1.2.0",
      "_view_name": "LayoutView",
      "align_content": null,
      "align_items": null,
      "align_self": null,
      "border": null,
      "bottom": null,
      "display": null,
      "flex": null,
      "flex_flow": null,
      "grid_area": null,
      "grid_auto_columns": null,
      "grid_auto_flow": null,
      "grid_auto_rows": null,
      "grid_column": null,
      "grid_gap": null,
      "grid_row": null,
      "grid_template_areas": null,
      "grid_template_columns": null,
      "grid_template_rows": null,
      "height": null,
      "justify_content": null,
      "justify_items": null,
      "left": null,
      "margin": null,
      "max_height": null,
      "max_width": null,
      "min_height": null,
      "min_width": null,
      "object_fit": null,
      "object_position": null,
      "order": null,
      "overflow": null,
      "overflow_x": null,
      "overflow_y": null,
      "padding": null,
      "right": null,
      "top": null,
      "visibility": null,
      "width": null
     }
    },
    "0ae2f50989ab476d9e50ee411ca6695f": {
     "model_module": "@jupyter-widgets/controls",
     "model_name": "HTMLModel",
     "state": {
      "_dom_classes": [],
      "_model_module": "@jupyter-widgets/controls",
      "_model_module_version": "1.5.0",
      "_model_name": "HTMLModel",
      "_view_count": null,
      "_view_module": "@jupyter-widgets/controls",
      "_view_module_version": "1.5.0",
      "_view_name": "HTMLView",
      "description": "",
      "description_tooltip": null,
      "layout": "IPY_MODEL_73878a733ac44a6483ee49f90d6e02ac",
      "placeholder": "​",
      "style": "IPY_MODEL_b923d1dff1f54f13a40dd18d41f8dcc6",
      "value": " 32768/? [00:00&lt;00:00, 71194.85it/s]"
     }
    },
    "0d44d5c2501f4844a74f85ede6aacd09": {
     "model_module": "@jupyter-widgets/controls",
     "model_name": "DescriptionStyleModel",
     "state": {
      "_model_module": "@jupyter-widgets/controls",
      "_model_module_version": "1.5.0",
      "_model_name": "DescriptionStyleModel",
      "_view_count": null,
      "_view_module": "@jupyter-widgets/base",
      "_view_module_version": "1.2.0",
      "_view_name": "StyleView",
      "description_width": ""
     }
    },
    "109619bee5104067a5cb895ed183678d": {
     "model_module": "@jupyter-widgets/base",
     "model_name": "LayoutModel",
     "state": {
      "_model_module": "@jupyter-widgets/base",
      "_model_module_version": "1.2.0",
      "_model_name": "LayoutModel",
      "_view_count": null,
      "_view_module": "@jupyter-widgets/base",
      "_view_module_version": "1.2.0",
      "_view_name": "LayoutView",
      "align_content": null,
      "align_items": null,
      "align_self": null,
      "border": null,
      "bottom": null,
      "display": null,
      "flex": null,
      "flex_flow": null,
      "grid_area": null,
      "grid_auto_columns": null,
      "grid_auto_flow": null,
      "grid_auto_rows": null,
      "grid_column": null,
      "grid_gap": null,
      "grid_row": null,
      "grid_template_areas": null,
      "grid_template_columns": null,
      "grid_template_rows": null,
      "height": null,
      "justify_content": null,
      "justify_items": null,
      "left": null,
      "margin": null,
      "max_height": null,
      "max_width": null,
      "min_height": null,
      "min_width": null,
      "object_fit": null,
      "object_position": null,
      "order": null,
      "overflow": null,
      "overflow_x": null,
      "overflow_y": null,
      "padding": null,
      "right": null,
      "top": null,
      "visibility": null,
      "width": null
     }
    },
    "1353fd61339b491fa1227810aae00cbd": {
     "model_module": "@jupyter-widgets/controls",
     "model_name": "HBoxModel",
     "state": {
      "_dom_classes": [],
      "_model_module": "@jupyter-widgets/controls",
      "_model_module_version": "1.5.0",
      "_model_name": "HBoxModel",
      "_view_count": null,
      "_view_module": "@jupyter-widgets/controls",
      "_view_module_version": "1.5.0",
      "_view_name": "HBoxView",
      "box_style": "",
      "children": [
       "IPY_MODEL_55931fc7abd74b419e60258b5dcc0137",
       "IPY_MODEL_0ae2f50989ab476d9e50ee411ca6695f"
      ],
      "layout": "IPY_MODEL_ade9de077bd34eb5bc9a36aac4af4646"
     }
    },
    "19ec773a6e8a497e9db83a8c9125a4dd": {
     "model_module": "@jupyter-widgets/controls",
     "model_name": "ProgressStyleModel",
     "state": {
      "_model_module": "@jupyter-widgets/controls",
      "_model_module_version": "1.5.0",
      "_model_name": "ProgressStyleModel",
      "_view_count": null,
      "_view_module": "@jupyter-widgets/base",
      "_view_module_version": "1.2.0",
      "_view_name": "StyleView",
      "bar_color": null,
      "description_width": "initial"
     }
    },
    "2437653047114cee8b40795566e0a357": {
     "model_module": "@jupyter-widgets/controls",
     "model_name": "DescriptionStyleModel",
     "state": {
      "_model_module": "@jupyter-widgets/controls",
      "_model_module_version": "1.5.0",
      "_model_name": "DescriptionStyleModel",
      "_view_count": null,
      "_view_module": "@jupyter-widgets/base",
      "_view_module_version": "1.2.0",
      "_view_name": "StyleView",
      "description_width": ""
     }
    },
    "31a7386458f8481ca9ba6a0401133878": {
     "model_module": "@jupyter-widgets/controls",
     "model_name": "HBoxModel",
     "state": {
      "_dom_classes": [],
      "_model_module": "@jupyter-widgets/controls",
      "_model_module_version": "1.5.0",
      "_model_name": "HBoxModel",
      "_view_count": null,
      "_view_module": "@jupyter-widgets/controls",
      "_view_module_version": "1.5.0",
      "_view_name": "HBoxView",
      "box_style": "",
      "children": [
       "IPY_MODEL_83b1e2dd9dae409ca01ccd5cb4e6afe7",
       "IPY_MODEL_9186c697d7ed4ed2853fb2cfd88ba017"
      ],
      "layout": "IPY_MODEL_402658d45394496fb235b1d49291ef0a"
     }
    },
    "31e0136ddeca4b64b0942d191af80e8b": {
     "model_module": "@jupyter-widgets/controls",
     "model_name": "IntProgressModel",
     "state": {
      "_dom_classes": [],
      "_model_module": "@jupyter-widgets/controls",
      "_model_module_version": "1.5.0",
      "_model_name": "IntProgressModel",
      "_view_count": null,
      "_view_module": "@jupyter-widgets/controls",
      "_view_module_version": "1.5.0",
      "_view_name": "ProgressView",
      "bar_style": "success",
      "description": "",
      "description_tooltip": null,
      "layout": "IPY_MODEL_109619bee5104067a5cb895ed183678d",
      "max": 1,
      "min": 0,
      "orientation": "horizontal",
      "style": "IPY_MODEL_19ec773a6e8a497e9db83a8c9125a4dd",
      "value": 1
     }
    },
    "3dc33cd3d18e4a8b8fa8e1d99ba1769e": {
     "model_module": "@jupyter-widgets/base",
     "model_name": "LayoutModel",
     "state": {
      "_model_module": "@jupyter-widgets/base",
      "_model_module_version": "1.2.0",
      "_model_name": "LayoutModel",
      "_view_count": null,
      "_view_module": "@jupyter-widgets/base",
      "_view_module_version": "1.2.0",
      "_view_name": "LayoutView",
      "align_content": null,
      "align_items": null,
      "align_self": null,
      "border": null,
      "bottom": null,
      "display": null,
      "flex": null,
      "flex_flow": null,
      "grid_area": null,
      "grid_auto_columns": null,
      "grid_auto_flow": null,
      "grid_auto_rows": null,
      "grid_column": null,
      "grid_gap": null,
      "grid_row": null,
      "grid_template_areas": null,
      "grid_template_columns": null,
      "grid_template_rows": null,
      "height": null,
      "justify_content": null,
      "justify_items": null,
      "left": null,
      "margin": null,
      "max_height": null,
      "max_width": null,
      "min_height": null,
      "min_width": null,
      "object_fit": null,
      "object_position": null,
      "order": null,
      "overflow": null,
      "overflow_x": null,
      "overflow_y": null,
      "padding": null,
      "right": null,
      "top": null,
      "visibility": null,
      "width": null
     }
    },
    "402658d45394496fb235b1d49291ef0a": {
     "model_module": "@jupyter-widgets/base",
     "model_name": "LayoutModel",
     "state": {
      "_model_module": "@jupyter-widgets/base",
      "_model_module_version": "1.2.0",
      "_model_name": "LayoutModel",
      "_view_count": null,
      "_view_module": "@jupyter-widgets/base",
      "_view_module_version": "1.2.0",
      "_view_name": "LayoutView",
      "align_content": null,
      "align_items": null,
      "align_self": null,
      "border": null,
      "bottom": null,
      "display": null,
      "flex": null,
      "flex_flow": null,
      "grid_area": null,
      "grid_auto_columns": null,
      "grid_auto_flow": null,
      "grid_auto_rows": null,
      "grid_column": null,
      "grid_gap": null,
      "grid_row": null,
      "grid_template_areas": null,
      "grid_template_columns": null,
      "grid_template_rows": null,
      "height": null,
      "justify_content": null,
      "justify_items": null,
      "left": null,
      "margin": null,
      "max_height": null,
      "max_width": null,
      "min_height": null,
      "min_width": null,
      "object_fit": null,
      "object_position": null,
      "order": null,
      "overflow": null,
      "overflow_x": null,
      "overflow_y": null,
      "padding": null,
      "right": null,
      "top": null,
      "visibility": null,
      "width": null
     }
    },
    "434748e6dea74b3684d2309c83083885": {
     "model_module": "@jupyter-widgets/controls",
     "model_name": "DescriptionStyleModel",
     "state": {
      "_model_module": "@jupyter-widgets/controls",
      "_model_module_version": "1.5.0",
      "_model_name": "DescriptionStyleModel",
      "_view_count": null,
      "_view_module": "@jupyter-widgets/base",
      "_view_module_version": "1.2.0",
      "_view_name": "StyleView",
      "description_width": ""
     }
    },
    "55931fc7abd74b419e60258b5dcc0137": {
     "model_module": "@jupyter-widgets/controls",
     "model_name": "IntProgressModel",
     "state": {
      "_dom_classes": [],
      "_model_module": "@jupyter-widgets/controls",
      "_model_module_version": "1.5.0",
      "_model_name": "IntProgressModel",
      "_view_count": null,
      "_view_module": "@jupyter-widgets/controls",
      "_view_module_version": "1.5.0",
      "_view_name": "ProgressView",
      "bar_style": "success",
      "description": "",
      "description_tooltip": null,
      "layout": "IPY_MODEL_3dc33cd3d18e4a8b8fa8e1d99ba1769e",
      "max": 1,
      "min": 0,
      "orientation": "horizontal",
      "style": "IPY_MODEL_610ae231da6648c6aec29a1b378ae067",
      "value": 1
     }
    },
    "610ae231da6648c6aec29a1b378ae067": {
     "model_module": "@jupyter-widgets/controls",
     "model_name": "ProgressStyleModel",
     "state": {
      "_model_module": "@jupyter-widgets/controls",
      "_model_module_version": "1.5.0",
      "_model_name": "ProgressStyleModel",
      "_view_count": null,
      "_view_module": "@jupyter-widgets/base",
      "_view_module_version": "1.2.0",
      "_view_name": "StyleView",
      "bar_color": null,
      "description_width": "initial"
     }
    },
    "63e313d4f9b54925a6313865d756b32f": {
     "model_module": "@jupyter-widgets/controls",
     "model_name": "IntProgressModel",
     "state": {
      "_dom_classes": [],
      "_model_module": "@jupyter-widgets/controls",
      "_model_module_version": "1.5.0",
      "_model_name": "IntProgressModel",
      "_view_count": null,
      "_view_module": "@jupyter-widgets/controls",
      "_view_module_version": "1.5.0",
      "_view_name": "ProgressView",
      "bar_style": "info",
      "description": "",
      "description_tooltip": null,
      "layout": "IPY_MODEL_8537c2d5ee03437e9d7a0b01403bbdc2",
      "max": 1,
      "min": 0,
      "orientation": "horizontal",
      "style": "IPY_MODEL_84394691ef114e4c8cc5d06992ed8095",
      "value": 1
     }
    },
    "6b65840c3fda4983afcc71317036e84c": {
     "model_module": "@jupyter-widgets/controls",
     "model_name": "HTMLModel",
     "state": {
      "_dom_classes": [],
      "_model_module": "@jupyter-widgets/controls",
      "_model_module_version": "1.5.0",
      "_model_name": "HTMLModel",
      "_view_count": null,
      "_view_module": "@jupyter-widgets/controls",
      "_view_module_version": "1.5.0",
      "_view_name": "HTMLView",
      "description": "",
      "description_tooltip": null,
      "layout": "IPY_MODEL_bb6c1ea9620b43eb8b25e4371e7b3efa",
      "placeholder": "​",
      "style": "IPY_MODEL_0d44d5c2501f4844a74f85ede6aacd09",
      "value": " 9920512/? [00:20&lt;00:00, 3057739.18it/s]"
     }
    },
    "73878a733ac44a6483ee49f90d6e02ac": {
     "model_module": "@jupyter-widgets/base",
     "model_name": "LayoutModel",
     "state": {
      "_model_module": "@jupyter-widgets/base",
      "_model_module_version": "1.2.0",
      "_model_name": "LayoutModel",
      "_view_count": null,
      "_view_module": "@jupyter-widgets/base",
      "_view_module_version": "1.2.0",
      "_view_name": "LayoutView",
      "align_content": null,
      "align_items": null,
      "align_self": null,
      "border": null,
      "bottom": null,
      "display": null,
      "flex": null,
      "flex_flow": null,
      "grid_area": null,
      "grid_auto_columns": null,
      "grid_auto_flow": null,
      "grid_auto_rows": null,
      "grid_column": null,
      "grid_gap": null,
      "grid_row": null,
      "grid_template_areas": null,
      "grid_template_columns": null,
      "grid_template_rows": null,
      "height": null,
      "justify_content": null,
      "justify_items": null,
      "left": null,
      "margin": null,
      "max_height": null,
      "max_width": null,
      "min_height": null,
      "min_width": null,
      "object_fit": null,
      "object_position": null,
      "order": null,
      "overflow": null,
      "overflow_x": null,
      "overflow_y": null,
      "padding": null,
      "right": null,
      "top": null,
      "visibility": null,
      "width": null
     }
    },
    "7c35ab9a890b4ca9918caa5db53601ee": {
     "model_module": "@jupyter-widgets/base",
     "model_name": "LayoutModel",
     "state": {
      "_model_module": "@jupyter-widgets/base",
      "_model_module_version": "1.2.0",
      "_model_name": "LayoutModel",
      "_view_count": null,
      "_view_module": "@jupyter-widgets/base",
      "_view_module_version": "1.2.0",
      "_view_name": "LayoutView",
      "align_content": null,
      "align_items": null,
      "align_self": null,
      "border": null,
      "bottom": null,
      "display": null,
      "flex": null,
      "flex_flow": null,
      "grid_area": null,
      "grid_auto_columns": null,
      "grid_auto_flow": null,
      "grid_auto_rows": null,
      "grid_column": null,
      "grid_gap": null,
      "grid_row": null,
      "grid_template_areas": null,
      "grid_template_columns": null,
      "grid_template_rows": null,
      "height": null,
      "justify_content": null,
      "justify_items": null,
      "left": null,
      "margin": null,
      "max_height": null,
      "max_width": null,
      "min_height": null,
      "min_width": null,
      "object_fit": null,
      "object_position": null,
      "order": null,
      "overflow": null,
      "overflow_x": null,
      "overflow_y": null,
      "padding": null,
      "right": null,
      "top": null,
      "visibility": null,
      "width": null
     }
    },
    "813b600f464d4a038ecdcbf2f5946477": {
     "model_module": "@jupyter-widgets/controls",
     "model_name": "ProgressStyleModel",
     "state": {
      "_model_module": "@jupyter-widgets/controls",
      "_model_module_version": "1.5.0",
      "_model_name": "ProgressStyleModel",
      "_view_count": null,
      "_view_module": "@jupyter-widgets/base",
      "_view_module_version": "1.2.0",
      "_view_name": "StyleView",
      "bar_color": null,
      "description_width": "initial"
     }
    },
    "83b1e2dd9dae409ca01ccd5cb4e6afe7": {
     "model_module": "@jupyter-widgets/controls",
     "model_name": "IntProgressModel",
     "state": {
      "_dom_classes": [],
      "_model_module": "@jupyter-widgets/controls",
      "_model_module_version": "1.5.0",
      "_model_name": "IntProgressModel",
      "_view_count": null,
      "_view_module": "@jupyter-widgets/controls",
      "_view_module_version": "1.5.0",
      "_view_name": "ProgressView",
      "bar_style": "info",
      "description": "  0%",
      "description_tooltip": null,
      "layout": "IPY_MODEL_e14b0454e8b349b7bdbed9c6491ac0bb",
      "max": 1,
      "min": 0,
      "orientation": "horizontal",
      "style": "IPY_MODEL_813b600f464d4a038ecdcbf2f5946477",
      "value": 0
     }
    },
    "84394691ef114e4c8cc5d06992ed8095": {
     "model_module": "@jupyter-widgets/controls",
     "model_name": "ProgressStyleModel",
     "state": {
      "_model_module": "@jupyter-widgets/controls",
      "_model_module_version": "1.5.0",
      "_model_name": "ProgressStyleModel",
      "_view_count": null,
      "_view_module": "@jupyter-widgets/base",
      "_view_module_version": "1.2.0",
      "_view_name": "StyleView",
      "bar_color": null,
      "description_width": "initial"
     }
    },
    "8537c2d5ee03437e9d7a0b01403bbdc2": {
     "model_module": "@jupyter-widgets/base",
     "model_name": "LayoutModel",
     "state": {
      "_model_module": "@jupyter-widgets/base",
      "_model_module_version": "1.2.0",
      "_model_name": "LayoutModel",
      "_view_count": null,
      "_view_module": "@jupyter-widgets/base",
      "_view_module_version": "1.2.0",
      "_view_name": "LayoutView",
      "align_content": null,
      "align_items": null,
      "align_self": null,
      "border": null,
      "bottom": null,
      "display": null,
      "flex": null,
      "flex_flow": null,
      "grid_area": null,
      "grid_auto_columns": null,
      "grid_auto_flow": null,
      "grid_auto_rows": null,
      "grid_column": null,
      "grid_gap": null,
      "grid_row": null,
      "grid_template_areas": null,
      "grid_template_columns": null,
      "grid_template_rows": null,
      "height": null,
      "justify_content": null,
      "justify_items": null,
      "left": null,
      "margin": null,
      "max_height": null,
      "max_width": null,
      "min_height": null,
      "min_width": null,
      "object_fit": null,
      "object_position": null,
      "order": null,
      "overflow": null,
      "overflow_x": null,
      "overflow_y": null,
      "padding": null,
      "right": null,
      "top": null,
      "visibility": null,
      "width": null
     }
    },
    "8df1059632f240898f894b6364c4cb9e": {
     "model_module": "@jupyter-widgets/base",
     "model_name": "LayoutModel",
     "state": {
      "_model_module": "@jupyter-widgets/base",
      "_model_module_version": "1.2.0",
      "_model_name": "LayoutModel",
      "_view_count": null,
      "_view_module": "@jupyter-widgets/base",
      "_view_module_version": "1.2.0",
      "_view_name": "LayoutView",
      "align_content": null,
      "align_items": null,
      "align_self": null,
      "border": null,
      "bottom": null,
      "display": null,
      "flex": null,
      "flex_flow": null,
      "grid_area": null,
      "grid_auto_columns": null,
      "grid_auto_flow": null,
      "grid_auto_rows": null,
      "grid_column": null,
      "grid_gap": null,
      "grid_row": null,
      "grid_template_areas": null,
      "grid_template_columns": null,
      "grid_template_rows": null,
      "height": null,
      "justify_content": null,
      "justify_items": null,
      "left": null,
      "margin": null,
      "max_height": null,
      "max_width": null,
      "min_height": null,
      "min_width": null,
      "object_fit": null,
      "object_position": null,
      "order": null,
      "overflow": null,
      "overflow_x": null,
      "overflow_y": null,
      "padding": null,
      "right": null,
      "top": null,
      "visibility": null,
      "width": null
     }
    },
    "9186c697d7ed4ed2853fb2cfd88ba017": {
     "model_module": "@jupyter-widgets/controls",
     "model_name": "HTMLModel",
     "state": {
      "_dom_classes": [],
      "_model_module": "@jupyter-widgets/controls",
      "_model_module_version": "1.5.0",
      "_model_name": "HTMLModel",
      "_view_count": null,
      "_view_module": "@jupyter-widgets/controls",
      "_view_module_version": "1.5.0",
      "_view_name": "HTMLView",
      "description": "",
      "description_tooltip": null,
      "layout": "IPY_MODEL_7c35ab9a890b4ca9918caa5db53601ee",
      "placeholder": "​",
      "style": "IPY_MODEL_2437653047114cee8b40795566e0a357",
      "value": " 0/4542 [00:00&lt;?, ?it/s]"
     }
    },
    "ade9de077bd34eb5bc9a36aac4af4646": {
     "model_module": "@jupyter-widgets/base",
     "model_name": "LayoutModel",
     "state": {
      "_model_module": "@jupyter-widgets/base",
      "_model_module_version": "1.2.0",
      "_model_name": "LayoutModel",
      "_view_count": null,
      "_view_module": "@jupyter-widgets/base",
      "_view_module_version": "1.2.0",
      "_view_name": "LayoutView",
      "align_content": null,
      "align_items": null,
      "align_self": null,
      "border": null,
      "bottom": null,
      "display": null,
      "flex": null,
      "flex_flow": null,
      "grid_area": null,
      "grid_auto_columns": null,
      "grid_auto_flow": null,
      "grid_auto_rows": null,
      "grid_column": null,
      "grid_gap": null,
      "grid_row": null,
      "grid_template_areas": null,
      "grid_template_columns": null,
      "grid_template_rows": null,
      "height": null,
      "justify_content": null,
      "justify_items": null,
      "left": null,
      "margin": null,
      "max_height": null,
      "max_width": null,
      "min_height": null,
      "min_width": null,
      "object_fit": null,
      "object_position": null,
      "order": null,
      "overflow": null,
      "overflow_x": null,
      "overflow_y": null,
      "padding": null,
      "right": null,
      "top": null,
      "visibility": null,
      "width": null
     }
    },
    "b66e74a4353d4339a689ca165262b5c7": {
     "model_module": "@jupyter-widgets/controls",
     "model_name": "HBoxModel",
     "state": {
      "_dom_classes": [],
      "_model_module": "@jupyter-widgets/controls",
      "_model_module_version": "1.5.0",
      "_model_name": "HBoxModel",
      "_view_count": null,
      "_view_module": "@jupyter-widgets/controls",
      "_view_module_version": "1.5.0",
      "_view_name": "HBoxView",
      "box_style": "",
      "children": [
       "IPY_MODEL_31e0136ddeca4b64b0942d191af80e8b",
       "IPY_MODEL_be124e895e4a4d8eabb4686a25a98981"
      ],
      "layout": "IPY_MODEL_8df1059632f240898f894b6364c4cb9e"
     }
    },
    "b923d1dff1f54f13a40dd18d41f8dcc6": {
     "model_module": "@jupyter-widgets/controls",
     "model_name": "DescriptionStyleModel",
     "state": {
      "_model_module": "@jupyter-widgets/controls",
      "_model_module_version": "1.5.0",
      "_model_name": "DescriptionStyleModel",
      "_view_count": null,
      "_view_module": "@jupyter-widgets/base",
      "_view_module_version": "1.2.0",
      "_view_name": "StyleView",
      "description_width": ""
     }
    },
    "bb6c1ea9620b43eb8b25e4371e7b3efa": {
     "model_module": "@jupyter-widgets/base",
     "model_name": "LayoutModel",
     "state": {
      "_model_module": "@jupyter-widgets/base",
      "_model_module_version": "1.2.0",
      "_model_name": "LayoutModel",
      "_view_count": null,
      "_view_module": "@jupyter-widgets/base",
      "_view_module_version": "1.2.0",
      "_view_name": "LayoutView",
      "align_content": null,
      "align_items": null,
      "align_self": null,
      "border": null,
      "bottom": null,
      "display": null,
      "flex": null,
      "flex_flow": null,
      "grid_area": null,
      "grid_auto_columns": null,
      "grid_auto_flow": null,
      "grid_auto_rows": null,
      "grid_column": null,
      "grid_gap": null,
      "grid_row": null,
      "grid_template_areas": null,
      "grid_template_columns": null,
      "grid_template_rows": null,
      "height": null,
      "justify_content": null,
      "justify_items": null,
      "left": null,
      "margin": null,
      "max_height": null,
      "max_width": null,
      "min_height": null,
      "min_width": null,
      "object_fit": null,
      "object_position": null,
      "order": null,
      "overflow": null,
      "overflow_x": null,
      "overflow_y": null,
      "padding": null,
      "right": null,
      "top": null,
      "visibility": null,
      "width": null
     }
    },
    "be124e895e4a4d8eabb4686a25a98981": {
     "model_module": "@jupyter-widgets/controls",
     "model_name": "HTMLModel",
     "state": {
      "_dom_classes": [],
      "_model_module": "@jupyter-widgets/controls",
      "_model_module_version": "1.5.0",
      "_model_name": "HTMLModel",
      "_view_count": null,
      "_view_module": "@jupyter-widgets/controls",
      "_view_module_version": "1.5.0",
      "_view_name": "HTMLView",
      "description": "",
      "description_tooltip": null,
      "layout": "IPY_MODEL_00db3c46a1ef4e8e8b5b5a03cebe04f7",
      "placeholder": "​",
      "style": "IPY_MODEL_434748e6dea74b3684d2309c83083885",
      "value": " 1654784/? [00:00&lt;00:00, 4496118.52it/s]"
     }
    },
    "e14b0454e8b349b7bdbed9c6491ac0bb": {
     "model_module": "@jupyter-widgets/base",
     "model_name": "LayoutModel",
     "state": {
      "_model_module": "@jupyter-widgets/base",
      "_model_module_version": "1.2.0",
      "_model_name": "LayoutModel",
      "_view_count": null,
      "_view_module": "@jupyter-widgets/base",
      "_view_module_version": "1.2.0",
      "_view_name": "LayoutView",
      "align_content": null,
      "align_items": null,
      "align_self": null,
      "border": null,
      "bottom": null,
      "display": null,
      "flex": null,
      "flex_flow": null,
      "grid_area": null,
      "grid_auto_columns": null,
      "grid_auto_flow": null,
      "grid_auto_rows": null,
      "grid_column": null,
      "grid_gap": null,
      "grid_row": null,
      "grid_template_areas": null,
      "grid_template_columns": null,
      "grid_template_rows": null,
      "height": null,
      "justify_content": null,
      "justify_items": null,
      "left": null,
      "margin": null,
      "max_height": null,
      "max_width": null,
      "min_height": null,
      "min_width": null,
      "object_fit": null,
      "object_position": null,
      "order": null,
      "overflow": null,
      "overflow_x": null,
      "overflow_y": null,
      "padding": null,
      "right": null,
      "top": null,
      "visibility": null,
      "width": null
     }
    },
    "e79d904cbf4d44ff92a27b6e0c489cbd": {
     "model_module": "@jupyter-widgets/controls",
     "model_name": "HBoxModel",
     "state": {
      "_dom_classes": [],
      "_model_module": "@jupyter-widgets/controls",
      "_model_module_version": "1.5.0",
      "_model_name": "HBoxModel",
      "_view_count": null,
      "_view_module": "@jupyter-widgets/controls",
      "_view_module_version": "1.5.0",
      "_view_name": "HBoxView",
      "box_style": "",
      "children": [
       "IPY_MODEL_63e313d4f9b54925a6313865d756b32f",
       "IPY_MODEL_6b65840c3fda4983afcc71317036e84c"
      ],
      "layout": "IPY_MODEL_fd0d37de7f9a494abac30961b02be151"
     }
    },
    "fd0d37de7f9a494abac30961b02be151": {
     "model_module": "@jupyter-widgets/base",
     "model_name": "LayoutModel",
     "state": {
      "_model_module": "@jupyter-widgets/base",
      "_model_module_version": "1.2.0",
      "_model_name": "LayoutModel",
      "_view_count": null,
      "_view_module": "@jupyter-widgets/base",
      "_view_module_version": "1.2.0",
      "_view_name": "LayoutView",
      "align_content": null,
      "align_items": null,
      "align_self": null,
      "border": null,
      "bottom": null,
      "display": null,
      "flex": null,
      "flex_flow": null,
      "grid_area": null,
      "grid_auto_columns": null,
      "grid_auto_flow": null,
      "grid_auto_rows": null,
      "grid_column": null,
      "grid_gap": null,
      "grid_row": null,
      "grid_template_areas": null,
      "grid_template_columns": null,
      "grid_template_rows": null,
      "height": null,
      "justify_content": null,
      "justify_items": null,
      "left": null,
      "margin": null,
      "max_height": null,
      "max_width": null,
      "min_height": null,
      "min_width": null,
      "object_fit": null,
      "object_position": null,
      "order": null,
      "overflow": null,
      "overflow_x": null,
      "overflow_y": null,
      "padding": null,
      "right": null,
      "top": null,
      "visibility": null,
      "width": null
     }
    }
   }
  }
 },
 "nbformat": 4,
 "nbformat_minor": 1
}
